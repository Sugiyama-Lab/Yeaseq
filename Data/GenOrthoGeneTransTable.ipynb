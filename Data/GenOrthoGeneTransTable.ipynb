{
 "cells": [
  {
   "cell_type": "code",
   "execution_count": 1,
   "metadata": {},
   "outputs": [],
   "source": [
    "import datetime\n",
    "from collections import Counter\n",
    "import json\n",
    "\n",
    "import numpy as np\n",
    "import pandas as pd\n"
   ]
  },
  {
   "cell_type": "markdown",
   "metadata": {},
   "source": [
    "# Process raw table"
   ]
  },
  {
   "cell_type": "code",
   "execution_count": 2,
   "metadata": {},
   "outputs": [],
   "source": [
    "ortho_table = pd.read_excel(\n",
    "    'SITable30-Science11-Evolutionary_Rates_of_1111_Orthologous_Groups.xls', \n",
    "    skiprows=2, parse_dates=False\n",
    ")"
   ]
  },
  {
   "cell_type": "code",
   "execution_count": 3,
   "metadata": {},
   "outputs": [
    {
     "data": {
      "text/html": [
       "<div>\n",
       "<style scoped>\n",
       "    .dataframe tbody tr th:only-of-type {\n",
       "        vertical-align: middle;\n",
       "    }\n",
       "\n",
       "    .dataframe tbody tr th {\n",
       "        vertical-align: top;\n",
       "    }\n",
       "\n",
       "    .dataframe thead th {\n",
       "        text-align: right;\n",
       "    }\n",
       "</style>\n",
       "<table border=\"1\" class=\"dataframe\">\n",
       "  <thead>\n",
       "    <tr style=\"text-align: right;\">\n",
       "      <th></th>\n",
       "      <th>Genes</th>\n",
       "      <th>Spom Gene Names</th>\n",
       "      <th>Spom Gene Descroption</th>\n",
       "      <th>Rate</th>\n",
       "      <th>Homology</th>\n",
       "    </tr>\n",
       "  </thead>\n",
       "  <tbody>\n",
       "    <tr>\n",
       "      <th>0</th>\n",
       "      <td>SPAC323.03c;SOCG03083;SPOG02688;SJAG05315</td>\n",
       "      <td>SPAC323.03c</td>\n",
       "      <td>sequence orphan</td>\n",
       "      <td>1.000237</td>\n",
       "      <td>0</td>\n",
       "    </tr>\n",
       "    <tr>\n",
       "      <th>1</th>\n",
       "      <td>SPAC27D7.13c;SOCG00830;SPOG01666;SJAG00140</td>\n",
       "      <td>ssm4</td>\n",
       "      <td>p150-Glued</td>\n",
       "      <td>0.999763</td>\n",
       "      <td>1</td>\n",
       "    </tr>\n",
       "    <tr>\n",
       "      <th>2</th>\n",
       "      <td>SPBC216.02;SOCG03562;SPOG04176;SJAG00368</td>\n",
       "      <td>mcp5</td>\n",
       "      <td>cortical anchoring factor for dynein Mcp5/Num1</td>\n",
       "      <td>0.999526</td>\n",
       "      <td>1</td>\n",
       "    </tr>\n",
       "    <tr>\n",
       "      <th>3</th>\n",
       "      <td>SPAP8A3.14c;SOCG04543;SPOG03714;SJAG04929</td>\n",
       "      <td>SPAP8A3.14c</td>\n",
       "      <td>mitochondrial inner membrane protein (predicted)</td>\n",
       "      <td>0.999289</td>\n",
       "      <td>1</td>\n",
       "    </tr>\n",
       "    <tr>\n",
       "      <th>4</th>\n",
       "      <td>SPBC16A3.03c;SOCG00553;SPOG01953;SJAG04377</td>\n",
       "      <td>lyn1</td>\n",
       "      <td>sequence orphan</td>\n",
       "      <td>0.999052</td>\n",
       "      <td>0</td>\n",
       "    </tr>\n",
       "    <tr>\n",
       "      <th>...</th>\n",
       "      <td>...</td>\n",
       "      <td>...</td>\n",
       "      <td>...</td>\n",
       "      <td>...</td>\n",
       "      <td>...</td>\n",
       "    </tr>\n",
       "    <tr>\n",
       "      <th>4215</th>\n",
       "      <td>SPAC1805.12c;SOCG04495;SPOG03761;SJAG01365</td>\n",
       "      <td>uep1</td>\n",
       "      <td>ribosomal-ubiquitin fusion protein Ubi2</td>\n",
       "      <td>0.001422</td>\n",
       "      <td>1</td>\n",
       "    </tr>\n",
       "    <tr>\n",
       "      <th>4216</th>\n",
       "      <td>SPBC1289.03c;SOCG01098;SPOG00920;SJAG01449</td>\n",
       "      <td>spi1</td>\n",
       "      <td>Ran GTPase Spi1</td>\n",
       "      <td>0.000948</td>\n",
       "      <td>1</td>\n",
       "    </tr>\n",
       "    <tr>\n",
       "      <th>4217</th>\n",
       "      <td>SPAC18B11.07c;SOCG00530;SPOG01975;SJAG00293</td>\n",
       "      <td>rhp6</td>\n",
       "      <td>Rad6 homolog, ubiquitin conjugating enzyme E2 ...</td>\n",
       "      <td>0.000711</td>\n",
       "      <td>1</td>\n",
       "    </tr>\n",
       "    <tr>\n",
       "      <th>4218</th>\n",
       "      <td>SPCC285.15c;SOCG02937;SPOG02539;SJAG02749</td>\n",
       "      <td>rps2802</td>\n",
       "      <td>40S ribosomal protein S28</td>\n",
       "      <td>0.000474</td>\n",
       "      <td>1</td>\n",
       "    </tr>\n",
       "    <tr>\n",
       "      <th>4219</th>\n",
       "      <td>SPAC25G10.06;SOCG04152;SPOG00390;SJAG04746</td>\n",
       "      <td>rps2801</td>\n",
       "      <td>40S ribosomal protein S28</td>\n",
       "      <td>0.000474</td>\n",
       "      <td>1</td>\n",
       "    </tr>\n",
       "  </tbody>\n",
       "</table>\n",
       "<p>4220 rows × 5 columns</p>\n",
       "</div>"
      ],
      "text/plain": [
       "                                            Genes Spom Gene Names  \\\n",
       "0       SPAC323.03c;SOCG03083;SPOG02688;SJAG05315     SPAC323.03c   \n",
       "1      SPAC27D7.13c;SOCG00830;SPOG01666;SJAG00140            ssm4   \n",
       "2        SPBC216.02;SOCG03562;SPOG04176;SJAG00368            mcp5   \n",
       "3       SPAP8A3.14c;SOCG04543;SPOG03714;SJAG04929     SPAP8A3.14c   \n",
       "4      SPBC16A3.03c;SOCG00553;SPOG01953;SJAG04377            lyn1   \n",
       "...                                           ...             ...   \n",
       "4215   SPAC1805.12c;SOCG04495;SPOG03761;SJAG01365            uep1   \n",
       "4216   SPBC1289.03c;SOCG01098;SPOG00920;SJAG01449            spi1   \n",
       "4217  SPAC18B11.07c;SOCG00530;SPOG01975;SJAG00293            rhp6   \n",
       "4218    SPCC285.15c;SOCG02937;SPOG02539;SJAG02749         rps2802   \n",
       "4219   SPAC25G10.06;SOCG04152;SPOG00390;SJAG04746         rps2801   \n",
       "\n",
       "                                  Spom Gene Descroption      Rate  Homology  \n",
       "0                                       sequence orphan  1.000237         0  \n",
       "1                                            p150-Glued  0.999763         1  \n",
       "2        cortical anchoring factor for dynein Mcp5/Num1  0.999526         1  \n",
       "3      mitochondrial inner membrane protein (predicted)  0.999289         1  \n",
       "4                                       sequence orphan  0.999052         0  \n",
       "...                                                 ...       ...       ...  \n",
       "4215            ribosomal-ubiquitin fusion protein Ubi2  0.001422         1  \n",
       "4216                                    Ran GTPase Spi1  0.000948         1  \n",
       "4217  Rad6 homolog, ubiquitin conjugating enzyme E2 ...  0.000711         1  \n",
       "4218                          40S ribosomal protein S28  0.000474         1  \n",
       "4219                          40S ribosomal protein S28  0.000474         1  \n",
       "\n",
       "[4220 rows x 5 columns]"
      ]
     },
     "execution_count": 3,
     "metadata": {},
     "output_type": "execute_result"
    }
   ],
   "source": [
    "ortho_table"
   ]
  },
  {
   "cell_type": "code",
   "execution_count": 4,
   "metadata": {},
   "outputs": [
    {
     "data": {
      "text/html": [
       "<div>\n",
       "<style scoped>\n",
       "    .dataframe tbody tr th:only-of-type {\n",
       "        vertical-align: middle;\n",
       "    }\n",
       "\n",
       "    .dataframe tbody tr th {\n",
       "        vertical-align: top;\n",
       "    }\n",
       "\n",
       "    .dataframe thead th {\n",
       "        text-align: right;\n",
       "    }\n",
       "</style>\n",
       "<table border=\"1\" class=\"dataframe\">\n",
       "  <thead>\n",
       "    <tr style=\"text-align: right;\">\n",
       "      <th></th>\n",
       "      <th>Genes</th>\n",
       "      <th>Spom Gene Names</th>\n",
       "      <th>Spom Gene Descroption</th>\n",
       "      <th>Rate</th>\n",
       "      <th>Homology</th>\n",
       "    </tr>\n",
       "  </thead>\n",
       "  <tbody>\n",
       "    <tr>\n",
       "      <th>477</th>\n",
       "      <td>SPBC4C3.12;SOCG00186;SPOG02771;SJAG03143</td>\n",
       "      <td>2010-09-01 00:00:00</td>\n",
       "      <td>fork head transcription factor Sep1</td>\n",
       "      <td>0.886967</td>\n",
       "      <td>1</td>\n",
       "    </tr>\n",
       "    <tr>\n",
       "      <th>1524</th>\n",
       "      <td>SPAC1F3.10c;SOCG01934;SPOG04078;SJAG01004</td>\n",
       "      <td>2010-10-01 00:00:00</td>\n",
       "      <td>mitochondrial intermediate peptidase Oct1 (pre...</td>\n",
       "      <td>0.638863</td>\n",
       "      <td>1</td>\n",
       "    </tr>\n",
       "    <tr>\n",
       "      <th>2329</th>\n",
       "      <td>SPAC5D6.05;SOCG02351;SPOG04926;SJAG04820</td>\n",
       "      <td>2010-09-11 00:00:00</td>\n",
       "      <td>mediator complex subunit Pmc6</td>\n",
       "      <td>0.448104</td>\n",
       "      <td>1</td>\n",
       "    </tr>\n",
       "  </tbody>\n",
       "</table>\n",
       "</div>"
      ],
      "text/plain": [
       "                                          Genes      Spom Gene Names  \\\n",
       "477    SPBC4C3.12;SOCG00186;SPOG02771;SJAG03143  2010-09-01 00:00:00   \n",
       "1524  SPAC1F3.10c;SOCG01934;SPOG04078;SJAG01004  2010-10-01 00:00:00   \n",
       "2329   SPAC5D6.05;SOCG02351;SPOG04926;SJAG04820  2010-09-11 00:00:00   \n",
       "\n",
       "                                  Spom Gene Descroption      Rate  Homology  \n",
       "477                 fork head transcription factor Sep1  0.886967         1  \n",
       "1524  mitochondrial intermediate peptidase Oct1 (pre...  0.638863         1  \n",
       "2329                      mediator complex subunit Pmc6  0.448104         1  "
      ]
     },
     "execution_count": 4,
     "metadata": {},
     "output_type": "execute_result"
    }
   ],
   "source": [
    "ortho_table[ortho_table['Spom Gene Names'].apply(lambda x: isinstance(x, datetime.datetime))]"
   ]
  },
  {
   "cell_type": "code",
   "execution_count": 5,
   "metadata": {},
   "outputs": [],
   "source": [
    "ortho_table.loc[\n",
    "    ortho_table['Spom Gene Names'].apply(lambda x: isinstance(x, datetime.datetime)),\n",
    "    'Spom Gene Names'\n",
    "] = np.nan\n"
   ]
  },
  {
   "cell_type": "code",
   "execution_count": 6,
   "metadata": {},
   "outputs": [
    {
     "data": {
      "text/html": [
       "<div>\n",
       "<style scoped>\n",
       "    .dataframe tbody tr th:only-of-type {\n",
       "        vertical-align: middle;\n",
       "    }\n",
       "\n",
       "    .dataframe tbody tr th {\n",
       "        vertical-align: top;\n",
       "    }\n",
       "\n",
       "    .dataframe thead th {\n",
       "        text-align: right;\n",
       "    }\n",
       "</style>\n",
       "<table border=\"1\" class=\"dataframe\">\n",
       "  <thead>\n",
       "    <tr style=\"text-align: right;\">\n",
       "      <th></th>\n",
       "      <th>Genes</th>\n",
       "      <th>Spom Gene Names</th>\n",
       "      <th>Spom Gene Descroption</th>\n",
       "      <th>Rate</th>\n",
       "      <th>Homology</th>\n",
       "    </tr>\n",
       "  </thead>\n",
       "  <tbody>\n",
       "  </tbody>\n",
       "</table>\n",
       "</div>"
      ],
      "text/plain": [
       "Empty DataFrame\n",
       "Columns: [Genes, Spom Gene Names, Spom Gene Descroption, Rate, Homology]\n",
       "Index: []"
      ]
     },
     "execution_count": 6,
     "metadata": {},
     "output_type": "execute_result"
    }
   ],
   "source": [
    "ortho_table[ortho_table['Spom Gene Names'].apply(lambda x: isinstance(x, datetime.datetime))]"
   ]
  },
  {
   "cell_type": "code",
   "execution_count": 7,
   "metadata": {},
   "outputs": [
    {
     "data": {
      "text/html": [
       "<div>\n",
       "<style scoped>\n",
       "    .dataframe tbody tr th:only-of-type {\n",
       "        vertical-align: middle;\n",
       "    }\n",
       "\n",
       "    .dataframe tbody tr th {\n",
       "        vertical-align: top;\n",
       "    }\n",
       "\n",
       "    .dataframe thead th {\n",
       "        text-align: right;\n",
       "    }\n",
       "</style>\n",
       "<table border=\"1\" class=\"dataframe\">\n",
       "  <thead>\n",
       "    <tr style=\"text-align: right;\">\n",
       "      <th></th>\n",
       "      <th>Genes</th>\n",
       "      <th>Spom Gene Names</th>\n",
       "      <th>Spom Gene Descroption</th>\n",
       "      <th>Rate</th>\n",
       "      <th>Homology</th>\n",
       "    </tr>\n",
       "  </thead>\n",
       "  <tbody>\n",
       "    <tr>\n",
       "      <th>477</th>\n",
       "      <td>SPBC4C3.12;SOCG00186;SPOG02771;SJAG03143</td>\n",
       "      <td>NaN</td>\n",
       "      <td>fork head transcription factor Sep1</td>\n",
       "      <td>0.886967</td>\n",
       "      <td>1</td>\n",
       "    </tr>\n",
       "    <tr>\n",
       "      <th>1524</th>\n",
       "      <td>SPAC1F3.10c;SOCG01934;SPOG04078;SJAG01004</td>\n",
       "      <td>NaN</td>\n",
       "      <td>mitochondrial intermediate peptidase Oct1 (pre...</td>\n",
       "      <td>0.638863</td>\n",
       "      <td>1</td>\n",
       "    </tr>\n",
       "    <tr>\n",
       "      <th>2329</th>\n",
       "      <td>SPAC5D6.05;SOCG02351;SPOG04926;SJAG04820</td>\n",
       "      <td>NaN</td>\n",
       "      <td>mediator complex subunit Pmc6</td>\n",
       "      <td>0.448104</td>\n",
       "      <td>1</td>\n",
       "    </tr>\n",
       "  </tbody>\n",
       "</table>\n",
       "</div>"
      ],
      "text/plain": [
       "                                          Genes Spom Gene Names  \\\n",
       "477    SPBC4C3.12;SOCG00186;SPOG02771;SJAG03143             NaN   \n",
       "1524  SPAC1F3.10c;SOCG01934;SPOG04078;SJAG01004             NaN   \n",
       "2329   SPAC5D6.05;SOCG02351;SPOG04926;SJAG04820             NaN   \n",
       "\n",
       "                                  Spom Gene Descroption      Rate  Homology  \n",
       "477                 fork head transcription factor Sep1  0.886967         1  \n",
       "1524  mitochondrial intermediate peptidase Oct1 (pre...  0.638863         1  \n",
       "2329                      mediator complex subunit Pmc6  0.448104         1  "
      ]
     },
     "execution_count": 7,
     "metadata": {},
     "output_type": "execute_result"
    }
   ],
   "source": [
    "ortho_table.loc[(477, 1524, 2329), :]"
   ]
  },
  {
   "cell_type": "code",
   "execution_count": 8,
   "metadata": {},
   "outputs": [
    {
     "data": {
      "text/html": [
       "<div>\n",
       "<style scoped>\n",
       "    .dataframe tbody tr th:only-of-type {\n",
       "        vertical-align: middle;\n",
       "    }\n",
       "\n",
       "    .dataframe tbody tr th {\n",
       "        vertical-align: top;\n",
       "    }\n",
       "\n",
       "    .dataframe thead th {\n",
       "        text-align: right;\n",
       "    }\n",
       "</style>\n",
       "<table border=\"1\" class=\"dataframe\">\n",
       "  <thead>\n",
       "    <tr style=\"text-align: right;\">\n",
       "      <th></th>\n",
       "      <th>Genes</th>\n",
       "      <th>Spom Gene Names</th>\n",
       "      <th>Spom Gene Descroption</th>\n",
       "      <th>Rate</th>\n",
       "      <th>Homology</th>\n",
       "    </tr>\n",
       "  </thead>\n",
       "  <tbody>\n",
       "    <tr>\n",
       "      <th>347</th>\n",
       "      <td>SPBC26H8.16;SOCG01441;SPOG03181;SJAG00703</td>\n",
       "      <td>NaN</td>\n",
       "      <td>mitochondrial protein, DUF1674 family</td>\n",
       "      <td>0.917773</td>\n",
       "      <td>1</td>\n",
       "    </tr>\n",
       "    <tr>\n",
       "      <th>365</th>\n",
       "      <td>SPAC6F6.19;SOCG04512;SPOG03745;SJAG01380</td>\n",
       "      <td>NaN</td>\n",
       "      <td>RNA-binding protein, G-patch type</td>\n",
       "      <td>0.913507</td>\n",
       "      <td>1</td>\n",
       "    </tr>\n",
       "    <tr>\n",
       "      <th>477</th>\n",
       "      <td>SPBC4C3.12;SOCG00186;SPOG02771;SJAG03143</td>\n",
       "      <td>NaN</td>\n",
       "      <td>fork head transcription factor Sep1</td>\n",
       "      <td>0.886967</td>\n",
       "      <td>1</td>\n",
       "    </tr>\n",
       "    <tr>\n",
       "      <th>487</th>\n",
       "      <td>SPAC23H4.21;SOCG02379;SPOG04897;SJAG00347</td>\n",
       "      <td>NaN</td>\n",
       "      <td>conserved protein</td>\n",
       "      <td>0.884597</td>\n",
       "      <td>1</td>\n",
       "    </tr>\n",
       "    <tr>\n",
       "      <th>616</th>\n",
       "      <td>SPCC1442.19;SOCG04120;SPOG00422;SJAG05270</td>\n",
       "      <td>NaN</td>\n",
       "      <td>mitochondrial ribosomal protein Mrp49</td>\n",
       "      <td>0.854028</td>\n",
       "      <td>1</td>\n",
       "    </tr>\n",
       "    <tr>\n",
       "      <th>872</th>\n",
       "      <td>SPBC29A10.17;SOCG04735;SPOG00053;SJAG03928</td>\n",
       "      <td>NaN</td>\n",
       "      <td>sequence orphan</td>\n",
       "      <td>0.793365</td>\n",
       "      <td>0</td>\n",
       "    </tr>\n",
       "    <tr>\n",
       "      <th>1017</th>\n",
       "      <td>SPBC1604.25;SOCG01403;SPOG03146;SJAG00852</td>\n",
       "      <td>NaN</td>\n",
       "      <td>Pet117 cytochrome c oxidase assemby protein (p...</td>\n",
       "      <td>0.759005</td>\n",
       "      <td>1</td>\n",
       "    </tr>\n",
       "    <tr>\n",
       "      <th>1465</th>\n",
       "      <td>SPCC757.15;SOCG04784;SPOG00007;SJAG02480</td>\n",
       "      <td>NaN</td>\n",
       "      <td>sequence orphan</td>\n",
       "      <td>0.652844</td>\n",
       "      <td>0</td>\n",
       "    </tr>\n",
       "    <tr>\n",
       "      <th>1524</th>\n",
       "      <td>SPAC1F3.10c;SOCG01934;SPOG04078;SJAG01004</td>\n",
       "      <td>NaN</td>\n",
       "      <td>mitochondrial intermediate peptidase Oct1 (pre...</td>\n",
       "      <td>0.638863</td>\n",
       "      <td>1</td>\n",
       "    </tr>\n",
       "    <tr>\n",
       "      <th>1559</th>\n",
       "      <td>SPAPB1E7.14;SOCG04846;SPOG00465;SJAG03033</td>\n",
       "      <td>NaN</td>\n",
       "      <td>Ino80 complex subunit Iec5</td>\n",
       "      <td>0.630569</td>\n",
       "      <td>0</td>\n",
       "    </tr>\n",
       "    <tr>\n",
       "      <th>2329</th>\n",
       "      <td>SPAC5D6.05;SOCG02351;SPOG04926;SJAG04820</td>\n",
       "      <td>NaN</td>\n",
       "      <td>mediator complex subunit Pmc6</td>\n",
       "      <td>0.448104</td>\n",
       "      <td>1</td>\n",
       "    </tr>\n",
       "    <tr>\n",
       "      <th>2991</th>\n",
       "      <td>SPCC16C4.22;SOCG03894;SPOG03342;SJAG01823</td>\n",
       "      <td>NaN</td>\n",
       "      <td>histone-like transcription factor family (CBF/...</td>\n",
       "      <td>0.291232</td>\n",
       "      <td>1</td>\n",
       "    </tr>\n",
       "  </tbody>\n",
       "</table>\n",
       "</div>"
      ],
      "text/plain": [
       "                                           Genes Spom Gene Names  \\\n",
       "347    SPBC26H8.16;SOCG01441;SPOG03181;SJAG00703             NaN   \n",
       "365     SPAC6F6.19;SOCG04512;SPOG03745;SJAG01380             NaN   \n",
       "477     SPBC4C3.12;SOCG00186;SPOG02771;SJAG03143             NaN   \n",
       "487    SPAC23H4.21;SOCG02379;SPOG04897;SJAG00347             NaN   \n",
       "616    SPCC1442.19;SOCG04120;SPOG00422;SJAG05270             NaN   \n",
       "872   SPBC29A10.17;SOCG04735;SPOG00053;SJAG03928             NaN   \n",
       "1017   SPBC1604.25;SOCG01403;SPOG03146;SJAG00852             NaN   \n",
       "1465    SPCC757.15;SOCG04784;SPOG00007;SJAG02480             NaN   \n",
       "1524   SPAC1F3.10c;SOCG01934;SPOG04078;SJAG01004             NaN   \n",
       "1559   SPAPB1E7.14;SOCG04846;SPOG00465;SJAG03033             NaN   \n",
       "2329    SPAC5D6.05;SOCG02351;SPOG04926;SJAG04820             NaN   \n",
       "2991   SPCC16C4.22;SOCG03894;SPOG03342;SJAG01823             NaN   \n",
       "\n",
       "                                  Spom Gene Descroption      Rate  Homology  \n",
       "347               mitochondrial protein, DUF1674 family  0.917773         1  \n",
       "365                   RNA-binding protein, G-patch type  0.913507         1  \n",
       "477                 fork head transcription factor Sep1  0.886967         1  \n",
       "487                                   conserved protein  0.884597         1  \n",
       "616               mitochondrial ribosomal protein Mrp49  0.854028         1  \n",
       "872                                     sequence orphan  0.793365         0  \n",
       "1017  Pet117 cytochrome c oxidase assemby protein (p...  0.759005         1  \n",
       "1465                                    sequence orphan  0.652844         0  \n",
       "1524  mitochondrial intermediate peptidase Oct1 (pre...  0.638863         1  \n",
       "1559                         Ino80 complex subunit Iec5  0.630569         0  \n",
       "2329                      mediator complex subunit Pmc6  0.448104         1  \n",
       "2991  histone-like transcription factor family (CBF/...  0.291232         1  "
      ]
     },
     "execution_count": 8,
     "metadata": {},
     "output_type": "execute_result"
    }
   ],
   "source": [
    "ortho_table[pd.isna(ortho_table['Spom Gene Names'])]"
   ]
  },
  {
   "cell_type": "code",
   "execution_count": 9,
   "metadata": {},
   "outputs": [
    {
     "data": {
      "text/plain": [
       "array([ 347,  365,  477,  487,  616,  872, 1017, 1465, 1524, 1559, 2329,\n",
       "       2991], dtype=int64)"
      ]
     },
     "execution_count": 9,
     "metadata": {},
     "output_type": "execute_result"
    }
   ],
   "source": [
    "original_na_row_idx = np.where(pd.isna(ortho_table['Spom Gene Names']))[0]\n",
    "original_na_row_idx"
   ]
  },
  {
   "cell_type": "code",
   "execution_count": 10,
   "metadata": {},
   "outputs": [],
   "source": [
    "ortho_table.loc[477, 'Spom Gene Names'] = 'sep1'\n",
    "ortho_table.loc[616, 'Spom Gene Names'] = 'mrp49'\n",
    "ortho_table.loc[1017, 'Spom Gene Names'] = 'pet117'\n",
    "ortho_table.loc[1524, 'Spom Gene Names'] = 'oct1'\n",
    "ortho_table.loc[1559, 'Spom Gene Names'] = 'iec5'\n",
    "ortho_table.loc[2329, 'Spom Gene Names'] = 'pmc6'\n"
   ]
  },
  {
   "cell_type": "code",
   "execution_count": 11,
   "metadata": {},
   "outputs": [
    {
     "data": {
      "text/html": [
       "<div>\n",
       "<style scoped>\n",
       "    .dataframe tbody tr th:only-of-type {\n",
       "        vertical-align: middle;\n",
       "    }\n",
       "\n",
       "    .dataframe tbody tr th {\n",
       "        vertical-align: top;\n",
       "    }\n",
       "\n",
       "    .dataframe thead th {\n",
       "        text-align: right;\n",
       "    }\n",
       "</style>\n",
       "<table border=\"1\" class=\"dataframe\">\n",
       "  <thead>\n",
       "    <tr style=\"text-align: right;\">\n",
       "      <th></th>\n",
       "      <th>Genes</th>\n",
       "      <th>Spom Gene Names</th>\n",
       "      <th>Spom Gene Descroption</th>\n",
       "      <th>Rate</th>\n",
       "      <th>Homology</th>\n",
       "    </tr>\n",
       "  </thead>\n",
       "  <tbody>\n",
       "    <tr>\n",
       "      <th>347</th>\n",
       "      <td>SPBC26H8.16;SOCG01441;SPOG03181;SJAG00703</td>\n",
       "      <td>NaN</td>\n",
       "      <td>mitochondrial protein, DUF1674 family</td>\n",
       "      <td>0.917773</td>\n",
       "      <td>1</td>\n",
       "    </tr>\n",
       "    <tr>\n",
       "      <th>365</th>\n",
       "      <td>SPAC6F6.19;SOCG04512;SPOG03745;SJAG01380</td>\n",
       "      <td>NaN</td>\n",
       "      <td>RNA-binding protein, G-patch type</td>\n",
       "      <td>0.913507</td>\n",
       "      <td>1</td>\n",
       "    </tr>\n",
       "    <tr>\n",
       "      <th>487</th>\n",
       "      <td>SPAC23H4.21;SOCG02379;SPOG04897;SJAG00347</td>\n",
       "      <td>NaN</td>\n",
       "      <td>conserved protein</td>\n",
       "      <td>0.884597</td>\n",
       "      <td>1</td>\n",
       "    </tr>\n",
       "    <tr>\n",
       "      <th>872</th>\n",
       "      <td>SPBC29A10.17;SOCG04735;SPOG00053;SJAG03928</td>\n",
       "      <td>NaN</td>\n",
       "      <td>sequence orphan</td>\n",
       "      <td>0.793365</td>\n",
       "      <td>0</td>\n",
       "    </tr>\n",
       "    <tr>\n",
       "      <th>1465</th>\n",
       "      <td>SPCC757.15;SOCG04784;SPOG00007;SJAG02480</td>\n",
       "      <td>NaN</td>\n",
       "      <td>sequence orphan</td>\n",
       "      <td>0.652844</td>\n",
       "      <td>0</td>\n",
       "    </tr>\n",
       "    <tr>\n",
       "      <th>2991</th>\n",
       "      <td>SPCC16C4.22;SOCG03894;SPOG03342;SJAG01823</td>\n",
       "      <td>NaN</td>\n",
       "      <td>histone-like transcription factor family (CBF/...</td>\n",
       "      <td>0.291232</td>\n",
       "      <td>1</td>\n",
       "    </tr>\n",
       "  </tbody>\n",
       "</table>\n",
       "</div>"
      ],
      "text/plain": [
       "                                           Genes Spom Gene Names  \\\n",
       "347    SPBC26H8.16;SOCG01441;SPOG03181;SJAG00703             NaN   \n",
       "365     SPAC6F6.19;SOCG04512;SPOG03745;SJAG01380             NaN   \n",
       "487    SPAC23H4.21;SOCG02379;SPOG04897;SJAG00347             NaN   \n",
       "872   SPBC29A10.17;SOCG04735;SPOG00053;SJAG03928             NaN   \n",
       "1465    SPCC757.15;SOCG04784;SPOG00007;SJAG02480             NaN   \n",
       "2991   SPCC16C4.22;SOCG03894;SPOG03342;SJAG01823             NaN   \n",
       "\n",
       "                                  Spom Gene Descroption      Rate  Homology  \n",
       "347               mitochondrial protein, DUF1674 family  0.917773         1  \n",
       "365                   RNA-binding protein, G-patch type  0.913507         1  \n",
       "487                                   conserved protein  0.884597         1  \n",
       "872                                     sequence orphan  0.793365         0  \n",
       "1465                                    sequence orphan  0.652844         0  \n",
       "2991  histone-like transcription factor family (CBF/...  0.291232         1  "
      ]
     },
     "execution_count": 11,
     "metadata": {},
     "output_type": "execute_result"
    }
   ],
   "source": [
    "ortho_table[pd.isna(ortho_table['Spom Gene Names'])]"
   ]
  },
  {
   "cell_type": "code",
   "execution_count": 12,
   "metadata": {},
   "outputs": [],
   "source": [
    "ortho_table.loc[pd.isna(ortho_table['Spom Gene Names']), 'Spom Gene Names'] = (\n",
    "    ortho_table.loc[pd.isna(ortho_table['Spom Gene Names']), 'Genes'].str.split(';', expand=True).iloc[:, 0]\n",
    ")"
   ]
  },
  {
   "cell_type": "code",
   "execution_count": 13,
   "metadata": {},
   "outputs": [
    {
     "data": {
      "text/html": [
       "<div>\n",
       "<style scoped>\n",
       "    .dataframe tbody tr th:only-of-type {\n",
       "        vertical-align: middle;\n",
       "    }\n",
       "\n",
       "    .dataframe tbody tr th {\n",
       "        vertical-align: top;\n",
       "    }\n",
       "\n",
       "    .dataframe thead th {\n",
       "        text-align: right;\n",
       "    }\n",
       "</style>\n",
       "<table border=\"1\" class=\"dataframe\">\n",
       "  <thead>\n",
       "    <tr style=\"text-align: right;\">\n",
       "      <th></th>\n",
       "      <th>Genes</th>\n",
       "      <th>Spom Gene Names</th>\n",
       "      <th>Spom Gene Descroption</th>\n",
       "      <th>Rate</th>\n",
       "      <th>Homology</th>\n",
       "    </tr>\n",
       "  </thead>\n",
       "  <tbody>\n",
       "  </tbody>\n",
       "</table>\n",
       "</div>"
      ],
      "text/plain": [
       "Empty DataFrame\n",
       "Columns: [Genes, Spom Gene Names, Spom Gene Descroption, Rate, Homology]\n",
       "Index: []"
      ]
     },
     "execution_count": 13,
     "metadata": {},
     "output_type": "execute_result"
    }
   ],
   "source": [
    "ortho_table[pd.isna(ortho_table['Spom Gene Names'])]"
   ]
  },
  {
   "cell_type": "code",
   "execution_count": 14,
   "metadata": {},
   "outputs": [
    {
     "data": {
      "text/html": [
       "<div>\n",
       "<style scoped>\n",
       "    .dataframe tbody tr th:only-of-type {\n",
       "        vertical-align: middle;\n",
       "    }\n",
       "\n",
       "    .dataframe tbody tr th {\n",
       "        vertical-align: top;\n",
       "    }\n",
       "\n",
       "    .dataframe thead th {\n",
       "        text-align: right;\n",
       "    }\n",
       "</style>\n",
       "<table border=\"1\" class=\"dataframe\">\n",
       "  <thead>\n",
       "    <tr style=\"text-align: right;\">\n",
       "      <th></th>\n",
       "      <th>Genes</th>\n",
       "      <th>Spom Gene Names</th>\n",
       "      <th>Spom Gene Descroption</th>\n",
       "      <th>Rate</th>\n",
       "      <th>Homology</th>\n",
       "    </tr>\n",
       "  </thead>\n",
       "  <tbody>\n",
       "    <tr>\n",
       "      <th>347</th>\n",
       "      <td>SPBC26H8.16;SOCG01441;SPOG03181;SJAG00703</td>\n",
       "      <td>SPBC26H8.16</td>\n",
       "      <td>mitochondrial protein, DUF1674 family</td>\n",
       "      <td>0.917773</td>\n",
       "      <td>1</td>\n",
       "    </tr>\n",
       "    <tr>\n",
       "      <th>365</th>\n",
       "      <td>SPAC6F6.19;SOCG04512;SPOG03745;SJAG01380</td>\n",
       "      <td>SPAC6F6.19</td>\n",
       "      <td>RNA-binding protein, G-patch type</td>\n",
       "      <td>0.913507</td>\n",
       "      <td>1</td>\n",
       "    </tr>\n",
       "    <tr>\n",
       "      <th>477</th>\n",
       "      <td>SPBC4C3.12;SOCG00186;SPOG02771;SJAG03143</td>\n",
       "      <td>sep1</td>\n",
       "      <td>fork head transcription factor Sep1</td>\n",
       "      <td>0.886967</td>\n",
       "      <td>1</td>\n",
       "    </tr>\n",
       "    <tr>\n",
       "      <th>487</th>\n",
       "      <td>SPAC23H4.21;SOCG02379;SPOG04897;SJAG00347</td>\n",
       "      <td>SPAC23H4.21</td>\n",
       "      <td>conserved protein</td>\n",
       "      <td>0.884597</td>\n",
       "      <td>1</td>\n",
       "    </tr>\n",
       "    <tr>\n",
       "      <th>616</th>\n",
       "      <td>SPCC1442.19;SOCG04120;SPOG00422;SJAG05270</td>\n",
       "      <td>mrp49</td>\n",
       "      <td>mitochondrial ribosomal protein Mrp49</td>\n",
       "      <td>0.854028</td>\n",
       "      <td>1</td>\n",
       "    </tr>\n",
       "    <tr>\n",
       "      <th>872</th>\n",
       "      <td>SPBC29A10.17;SOCG04735;SPOG00053;SJAG03928</td>\n",
       "      <td>SPBC29A10.17</td>\n",
       "      <td>sequence orphan</td>\n",
       "      <td>0.793365</td>\n",
       "      <td>0</td>\n",
       "    </tr>\n",
       "    <tr>\n",
       "      <th>1017</th>\n",
       "      <td>SPBC1604.25;SOCG01403;SPOG03146;SJAG00852</td>\n",
       "      <td>pet117</td>\n",
       "      <td>Pet117 cytochrome c oxidase assemby protein (p...</td>\n",
       "      <td>0.759005</td>\n",
       "      <td>1</td>\n",
       "    </tr>\n",
       "    <tr>\n",
       "      <th>1465</th>\n",
       "      <td>SPCC757.15;SOCG04784;SPOG00007;SJAG02480</td>\n",
       "      <td>SPCC757.15</td>\n",
       "      <td>sequence orphan</td>\n",
       "      <td>0.652844</td>\n",
       "      <td>0</td>\n",
       "    </tr>\n",
       "    <tr>\n",
       "      <th>1524</th>\n",
       "      <td>SPAC1F3.10c;SOCG01934;SPOG04078;SJAG01004</td>\n",
       "      <td>oct1</td>\n",
       "      <td>mitochondrial intermediate peptidase Oct1 (pre...</td>\n",
       "      <td>0.638863</td>\n",
       "      <td>1</td>\n",
       "    </tr>\n",
       "    <tr>\n",
       "      <th>1559</th>\n",
       "      <td>SPAPB1E7.14;SOCG04846;SPOG00465;SJAG03033</td>\n",
       "      <td>iec5</td>\n",
       "      <td>Ino80 complex subunit Iec5</td>\n",
       "      <td>0.630569</td>\n",
       "      <td>0</td>\n",
       "    </tr>\n",
       "    <tr>\n",
       "      <th>2329</th>\n",
       "      <td>SPAC5D6.05;SOCG02351;SPOG04926;SJAG04820</td>\n",
       "      <td>pmc6</td>\n",
       "      <td>mediator complex subunit Pmc6</td>\n",
       "      <td>0.448104</td>\n",
       "      <td>1</td>\n",
       "    </tr>\n",
       "    <tr>\n",
       "      <th>2991</th>\n",
       "      <td>SPCC16C4.22;SOCG03894;SPOG03342;SJAG01823</td>\n",
       "      <td>SPCC16C4.22</td>\n",
       "      <td>histone-like transcription factor family (CBF/...</td>\n",
       "      <td>0.291232</td>\n",
       "      <td>1</td>\n",
       "    </tr>\n",
       "  </tbody>\n",
       "</table>\n",
       "</div>"
      ],
      "text/plain": [
       "                                           Genes Spom Gene Names  \\\n",
       "347    SPBC26H8.16;SOCG01441;SPOG03181;SJAG00703     SPBC26H8.16   \n",
       "365     SPAC6F6.19;SOCG04512;SPOG03745;SJAG01380      SPAC6F6.19   \n",
       "477     SPBC4C3.12;SOCG00186;SPOG02771;SJAG03143            sep1   \n",
       "487    SPAC23H4.21;SOCG02379;SPOG04897;SJAG00347     SPAC23H4.21   \n",
       "616    SPCC1442.19;SOCG04120;SPOG00422;SJAG05270           mrp49   \n",
       "872   SPBC29A10.17;SOCG04735;SPOG00053;SJAG03928    SPBC29A10.17   \n",
       "1017   SPBC1604.25;SOCG01403;SPOG03146;SJAG00852          pet117   \n",
       "1465    SPCC757.15;SOCG04784;SPOG00007;SJAG02480      SPCC757.15   \n",
       "1524   SPAC1F3.10c;SOCG01934;SPOG04078;SJAG01004            oct1   \n",
       "1559   SPAPB1E7.14;SOCG04846;SPOG00465;SJAG03033            iec5   \n",
       "2329    SPAC5D6.05;SOCG02351;SPOG04926;SJAG04820            pmc6   \n",
       "2991   SPCC16C4.22;SOCG03894;SPOG03342;SJAG01823     SPCC16C4.22   \n",
       "\n",
       "                                  Spom Gene Descroption      Rate  Homology  \n",
       "347               mitochondrial protein, DUF1674 family  0.917773         1  \n",
       "365                   RNA-binding protein, G-patch type  0.913507         1  \n",
       "477                 fork head transcription factor Sep1  0.886967         1  \n",
       "487                                   conserved protein  0.884597         1  \n",
       "616               mitochondrial ribosomal protein Mrp49  0.854028         1  \n",
       "872                                     sequence orphan  0.793365         0  \n",
       "1017  Pet117 cytochrome c oxidase assemby protein (p...  0.759005         1  \n",
       "1465                                    sequence orphan  0.652844         0  \n",
       "1524  mitochondrial intermediate peptidase Oct1 (pre...  0.638863         1  \n",
       "1559                         Ino80 complex subunit Iec5  0.630569         0  \n",
       "2329                      mediator complex subunit Pmc6  0.448104         1  \n",
       "2991  histone-like transcription factor family (CBF/...  0.291232         1  "
      ]
     },
     "execution_count": 14,
     "metadata": {},
     "output_type": "execute_result"
    }
   ],
   "source": [
    "ortho_table.loc[original_na_row_idx, :]"
   ]
  },
  {
   "cell_type": "markdown",
   "metadata": {},
   "source": [
    "# Write find table to json"
   ]
  },
  {
   "cell_type": "code",
   "execution_count": 15,
   "metadata": {},
   "outputs": [
    {
     "data": {
      "text/plain": [
       "{'SJAG': 4220,\n",
       " 'SOCG': 4220,\n",
       " 'SPAC': 1824,\n",
       " 'SPAP': 102,\n",
       " 'SPBC': 1466,\n",
       " 'SPBP': 98,\n",
       " 'SPCC': 704,\n",
       " 'SPCP': 26,\n",
       " 'SPOG': 4220}"
      ]
     },
     "execution_count": 15,
     "metadata": {},
     "output_type": "execute_result"
    }
   ],
   "source": [
    "dict(Counter(sorted([_[:4] for _ in ';'.join(ortho_table['Genes'].tolist()).split(';')])))"
   ]
  },
  {
   "cell_type": "code",
   "execution_count": 16,
   "metadata": {},
   "outputs": [],
   "source": [
    "for gene in (\n",
    "    [_ for _ in ';'.join(ortho_table['Genes'].tolist()).split(';')]\n",
    "):\n",
    "    df = ortho_table[ortho_table['Genes'].str.contains(gene, regex=False)]\n",
    "    if len(df) != 1:\n",
    "        print(gene)\n",
    "        print(df)\n",
    "        break\n"
   ]
  },
  {
   "cell_type": "code",
   "execution_count": 17,
   "metadata": {},
   "outputs": [
    {
     "data": {
      "text/plain": [
       "'SJAG04746'"
      ]
     },
     "execution_count": 17,
     "metadata": {},
     "output_type": "execute_result"
    }
   ],
   "source": [
    "gene"
   ]
  },
  {
   "cell_type": "code",
   "execution_count": 18,
   "metadata": {},
   "outputs": [
    {
     "data": {
      "text/html": [
       "<div>\n",
       "<style scoped>\n",
       "    .dataframe tbody tr th:only-of-type {\n",
       "        vertical-align: middle;\n",
       "    }\n",
       "\n",
       "    .dataframe tbody tr th {\n",
       "        vertical-align: top;\n",
       "    }\n",
       "\n",
       "    .dataframe thead th {\n",
       "        text-align: right;\n",
       "    }\n",
       "</style>\n",
       "<table border=\"1\" class=\"dataframe\">\n",
       "  <thead>\n",
       "    <tr style=\"text-align: right;\">\n",
       "      <th></th>\n",
       "      <th>Genes</th>\n",
       "      <th>Spom Gene Names</th>\n",
       "      <th>Spom Gene Descroption</th>\n",
       "      <th>Rate</th>\n",
       "      <th>Homology</th>\n",
       "    </tr>\n",
       "  </thead>\n",
       "  <tbody>\n",
       "    <tr>\n",
       "      <th>4219</th>\n",
       "      <td>SPAC25G10.06;SOCG04152;SPOG00390;SJAG04746</td>\n",
       "      <td>rps2801</td>\n",
       "      <td>40S ribosomal protein S28</td>\n",
       "      <td>0.000474</td>\n",
       "      <td>1</td>\n",
       "    </tr>\n",
       "  </tbody>\n",
       "</table>\n",
       "</div>"
      ],
      "text/plain": [
       "                                           Genes Spom Gene Names  \\\n",
       "4219  SPAC25G10.06;SOCG04152;SPOG00390;SJAG04746         rps2801   \n",
       "\n",
       "          Spom Gene Descroption      Rate  Homology  \n",
       "4219  40S ribosomal protein S28  0.000474         1  "
      ]
     },
     "execution_count": 18,
     "metadata": {},
     "output_type": "execute_result"
    }
   ],
   "source": [
    "df"
   ]
  },
  {
   "cell_type": "code",
   "execution_count": 19,
   "metadata": {},
   "outputs": [],
   "source": [
    "yeast_gene_prefix_table = {\n",
    "    'SPAC': 'pombe',\n",
    "    'SPAP': 'pombe',\n",
    "    'SPBC': 'pombe',\n",
    "    'SPBP': 'pombe',\n",
    "    'SPCC': 'pombe',\n",
    "    'SPCP': 'pombe',\n",
    "    'SJAG': 'japonicus', \n",
    "    'SPOG': 'cryophilus', \n",
    "    'SOCG': 'octosporus',\n",
    "}\n",
    "recorder_order = {\n",
    "    'pombe': 1,\n",
    "    'japonicus': 2,\n",
    "    'cryophilus': 3,\n",
    "    'octosporus': 4,\n",
    "}\n"
   ]
  },
  {
   "cell_type": "code",
   "execution_count": 20,
   "metadata": {
    "tags": []
   },
   "outputs": [],
   "source": [
    "OrthoTransDict = {\n",
    "    'Data': [],\n",
    "}\n",
    "\n",
    "for idx, (row_idx, row) in enumerate(ortho_table.iterrows()):\n",
    "    genes = row['Genes'].split(';')\n",
    "    pombe_gene_name = row['Spom Gene Names']\n",
    "    pombe_gene_desc = row['Spom Gene Descroption']\n",
    "    \n",
    "    new_gene_rec = ['' for i in range(5)]\n",
    "    for gene in genes:\n",
    "        gene_prefix_4 = gene[:4]\n",
    "        species = yeast_gene_prefix_table[gene_prefix_4]\n",
    "        \n",
    "        if species != 'pombe':\n",
    "            gene = f'{gene[:4]}_{gene[4:]}'\n",
    "        \n",
    "        new_gene_rec[recorder_order[species]] = gene\n",
    "        \n",
    "        OrthoTransDict[gene] = idx\n",
    "    \n",
    "    if pombe_gene_name != new_gene_rec[recorder_order['pombe']]:\n",
    "        new_gene_rec[0] = pombe_gene_name\n",
    "        OrthoTransDict[pombe_gene_name] = idx\n",
    "    \n",
    "    new_gene_rec.append(pombe_gene_desc)\n",
    "\n",
    "    OrthoTransDict['Data'].append(new_gene_rec)\n"
   ]
  },
  {
   "cell_type": "code",
   "execution_count": 21,
   "metadata": {},
   "outputs": [
    {
     "name": "stdout",
     "output_type": "stream",
     "text": [
      "SPAC323.03c 0\n",
      "SOCG_03083 0\n",
      "SPOG_02688 0\n",
      "SJAG_05315 0\n"
     ]
    }
   ],
   "source": [
    "for gene in ['SPAC323.03c', 'SOCG_03083', 'SPOG_02688', 'SJAG_05315']:\n",
    "    print(gene, OrthoTransDict[gene])"
   ]
  },
  {
   "cell_type": "code",
   "execution_count": 22,
   "metadata": {},
   "outputs": [
    {
     "name": "stdout",
     "output_type": "stream",
     "text": [
      "SPBC216.02 2\n",
      "SOCG_03562 2\n",
      "SPOG_04176 2\n",
      "SJAG_00368 2\n",
      "mcp5 2\n"
     ]
    }
   ],
   "source": [
    "for gene in ['SPBC216.02', 'SOCG_03562', 'SPOG_04176', 'SJAG_00368', 'mcp5']:\n",
    "    print(gene, OrthoTransDict[gene])"
   ]
  },
  {
   "cell_type": "code",
   "execution_count": 23,
   "metadata": {},
   "outputs": [
    {
     "name": "stdout",
     "output_type": "stream",
     "text": [
      "SPAC25G10.06 4219\n",
      "SOCG_04152 4219\n",
      "SPOG_00390 4219\n",
      "SJAG_04746 4219\n",
      "rps2801 4219\n"
     ]
    }
   ],
   "source": [
    "for gene in ['SPAC25G10.06', 'SOCG_04152', 'SPOG_00390', 'SJAG_04746', 'rps2801']:\n",
    "    print(gene, OrthoTransDict[gene])"
   ]
  },
  {
   "cell_type": "code",
   "execution_count": 24,
   "metadata": {},
   "outputs": [
    {
     "data": {
      "text/plain": [
       "['rps2801',\n",
       " 'SPAC25G10.06',\n",
       " 'SJAG_04746',\n",
       " 'SPOG_00390',\n",
       " 'SOCG_04152',\n",
       " '40S ribosomal protein S28']"
      ]
     },
     "execution_count": 24,
     "metadata": {},
     "output_type": "execute_result"
    }
   ],
   "source": [
    "OrthoTransDict['Data'][4219]"
   ]
  },
  {
   "cell_type": "code",
   "execution_count": 25,
   "metadata": {},
   "outputs": [
    {
     "data": {
      "text/plain": [
       "['rps2801',\n",
       " 'SPAC25G10.06',\n",
       " 'SJAG_04746',\n",
       " 'SPOG_00390',\n",
       " 'SOCG_04152',\n",
       " '40S ribosomal protein S28']"
      ]
     },
     "execution_count": 25,
     "metadata": {},
     "output_type": "execute_result"
    }
   ],
   "source": [
    "OrthoTransDict['Data'][-1]"
   ]
  },
  {
   "cell_type": "code",
   "execution_count": 26,
   "metadata": {},
   "outputs": [
    {
     "data": {
      "text/plain": [
       "4220"
      ]
     },
     "execution_count": 26,
     "metadata": {},
     "output_type": "execute_result"
    }
   ],
   "source": [
    "len(OrthoTransDict['Data'])"
   ]
  },
  {
   "cell_type": "code",
   "execution_count": null,
   "metadata": {},
   "outputs": [],
   "source": []
  },
  {
   "cell_type": "code",
   "execution_count": 27,
   "metadata": {},
   "outputs": [],
   "source": [
    "with open(r'..\\external_data\\OrthoGeneTable-Rhind_Science_11.json', 'w') as f:\n",
    "    json.dump(OrthoTransDict, f)\n"
   ]
  },
  {
   "cell_type": "code",
   "execution_count": null,
   "metadata": {},
   "outputs": [],
   "source": []
  }
 ],
 "metadata": {
  "kernelspec": {
   "display_name": "dl",
   "language": "python",
   "name": "dl"
  },
  "language_info": {
   "codemirror_mode": {
    "name": "ipython",
    "version": 3
   },
   "file_extension": ".py",
   "mimetype": "text/x-python",
   "name": "python",
   "nbconvert_exporter": "python",
   "pygments_lexer": "ipython3",
   "version": "3.7.7"
  },
  "toc-autonumbering": true
 },
 "nbformat": 4,
 "nbformat_minor": 4
}
